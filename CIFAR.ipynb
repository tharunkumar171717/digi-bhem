{
  "nbformat": 4,
  "nbformat_minor": 0,
  "metadata": {
    "colab": {
      "provenance": [],
      "gpuType": "T4"
    },
    "kernelspec": {
      "name": "python3",
      "display_name": "Python 3"
    },
    "language_info": {
      "name": "python"
    },
    "accelerator": "GPU"
  },
  "cells": [
    {
      "cell_type": "markdown",
      "source": [
        "**CNN on CIFAIR10 dataset**"
      ],
      "metadata": {
        "id": "ktXS5zcuKpHj"
      }
    },
    {
      "cell_type": "code",
      "execution_count": null,
      "metadata": {
        "id": "JoOoRQZLJN2w"
      },
      "outputs": [],
      "source": [
        "from tensorflow.keras.models import Sequential\n",
        "from tensorflow.keras.layers import Dense,Conv2D,MaxPool2D,Flatten,Dropout"
      ]
    },
    {
      "cell_type": "code",
      "source": [
        "from tensorflow.keras.datasets import cifar10\n",
        "(x_train,y_train),(x_test,y_test)=cifar10.load_data()"
      ],
      "metadata": {
        "colab": {
          "base_uri": "https://localhost:8080/"
        },
        "id": "nYXlUrSsLPKb",
        "outputId": "9c24bed3-df45-4ef6-dfed-b241ac0a9068"
      },
      "execution_count": null,
      "outputs": [
        {
          "output_type": "stream",
          "name": "stdout",
          "text": [
            "Downloading data from https://www.cs.toronto.edu/~kriz/cifar-10-python.tar.gz\n",
            "170498071/170498071 [==============================] - 13s 0us/step\n"
          ]
        }
      ]
    },
    {
      "cell_type": "code",
      "source": [
        "print(x_train.shape)\n",
        "print(y_train.shape)\n",
        "print(x_test.shape)\n",
        "print(y_test.shape)"
      ],
      "metadata": {
        "colab": {
          "base_uri": "https://localhost:8080/"
        },
        "id": "VHJxfIKELszE",
        "outputId": "6520667f-12ae-413d-9978-46b503e17c11"
      },
      "execution_count": null,
      "outputs": [
        {
          "output_type": "stream",
          "name": "stdout",
          "text": [
            "(50000, 32, 32, 3)\n",
            "(50000, 1)\n",
            "(10000, 32, 32, 3)\n",
            "(10000, 1)\n"
          ]
        }
      ]
    },
    {
      "cell_type": "code",
      "source": [
        "print(x_train[50])"
      ],
      "metadata": {
        "id": "Lnhcv2yPMEgy"
      },
      "execution_count": null,
      "outputs": []
    },
    {
      "cell_type": "code",
      "source": [
        "#Normalization between 0 to 1\n",
        "x_train,x_test=x_train/255.0,x_test/255.0"
      ],
      "metadata": {
        "id": "SOfajI-FMMNa"
      },
      "execution_count": null,
      "outputs": []
    },
    {
      "cell_type": "code",
      "source": [
        "print(x_train[50])"
      ],
      "metadata": {
        "id": "EsPKnueBMiFa"
      },
      "execution_count": null,
      "outputs": []
    },
    {
      "cell_type": "code",
      "source": [
        "import numpy as np\n",
        "import matplotlib.pyplot as plt\n",
        "plt.imshow(x_train[27150])\n",
        "plt.show()"
      ],
      "metadata": {
        "colab": {
          "base_uri": "https://localhost:8080/",
          "height": 430
        },
        "id": "MEFewQGWMuwx",
        "outputId": "af877182-2d3b-4760-8b95-4dd67f3e9725"
      },
      "execution_count": null,
      "outputs": [
        {
          "output_type": "display_data",
          "data": {
            "text/plain": [
              "<Figure size 640x480 with 1 Axes>"
            ],
            "image/png": "[encoded data removed]"
          },
          "metadata": {}
        }
      ]
    },
    {
      "cell_type": "code",
      "source": [
        "from tensorflow.keras import utils\n",
        "y_train=utils.to_categorical(y_train,10)\n",
        "y_test=utils.to_categorical(y_test,10)"
      ],
      "metadata": {
        "id": "6J9ejhDKNze0"
      },
      "execution_count": null,
      "outputs": []
    },
    {
      "cell_type": "code",
      "source": [
        "print(y_train.shape)\n",
        "print(y_test.shape)"
      ],
      "metadata": {
        "colab": {
          "base_uri": "https://localhost:8080/"
        },
        "id": "d62DCYgOOIsy",
        "outputId": "bef2a7c2-30b6-49e3-bf55-6d6efb241d8c"
      },
      "execution_count": null,
      "outputs": [
        {
          "output_type": "stream",
          "name": "stdout",
          "text": [
            "(50000, 10)\n",
            "(10000, 10)\n"
          ]
        }
      ]
    },
    {
      "cell_type": "code",
      "source": [
        "#Build CNN model\n",
        "model=Sequential(\n",
        "    [\n",
        "        Dense(64,input_shape=(32,32,3)),\n",
        "        Conv2D(64,kernel_size=(3,3),activation='relu'),\n",
        "        Conv2D(64,kernel_size=(3,3),activation='relu'),\n",
        "        MaxPool2D(pool_size=(2,2)),\n",
        "        Conv2D(128,kernel_size=(3,3),activation='relu'),\n",
        "        Conv2D(128,kernel_size=(3,3),activation='relu'),\n",
        "        MaxPool2D(pool_size=(2,2)),\n",
        "        Dropout(0.3),\n",
        "        Flatten(),\n",
        "        Dense(128,activation='relu'),\n",
        "        Dense(10,activation='softmax')\n",
        "    ]\n",
        ")"
      ],
      "metadata": {
        "id": "ljvj-r95OPgj"
      },
      "execution_count": null,
      "outputs": []
    },
    {
      "cell_type": "code",
      "source": [
        "model.compile(loss='categorical_crossentropy',metrics=['accuracy'],optimizer='sgd')"
      ],
      "metadata": {
        "id": "wCKkyuubQNhj"
      },
      "execution_count": null,
      "outputs": []
    },
    {
      "cell_type": "code",
      "source": [
        "train=model.fit(x_train,y_train,batch_size=32,verbose=1,epochs=10,validation_data=(x_test,y_test))"
      ],
      "metadata": {
        "colab": {
          "base_uri": "https://localhost:8080/"
        },
        "id": "8IqGBvXLQbgT",
        "outputId": "b9ef070a-0896-4ec1-c61b-257fcde58428"
      },
      "execution_count": null,
      "outputs": [
        {
          "output_type": "stream",
          "name": "stdout",
          "text": [
            "Epoch 1/10\n",
            "1563/1563 [==============================] - 22s 10ms/step - loss: 2.0298 - accuracy: 0.2562 - val_loss: 1.8944 - val_accuracy: 0.3337\n",
            "Epoch 2/10\n",
            "1563/1563 [==============================] - 15s 10ms/step - loss: 1.5953 - accuracy: 0.4258 - val_loss: 1.4446 - val_accuracy: 0.4793\n",
            "Epoch 3/10\n",
            "1563/1563 [==============================] - 15s 9ms/step - loss: 1.4261 - accuracy: 0.4857 - val_loss: 1.3506 - val_accuracy: 0.5169\n",
            "Epoch 4/10\n",
            "1563/1563 [==============================] - 15s 10ms/step - loss: 1.3131 - accuracy: 0.5289 - val_loss: 1.2446 - val_accuracy: 0.5597\n",
            "Epoch 5/10\n",
            "1563/1563 [==============================] - 15s 9ms/step - loss: 1.2235 - accuracy: 0.5633 - val_loss: 1.1755 - val_accuracy: 0.5845\n",
            "Epoch 6/10\n",
            "1563/1563 [==============================] - 15s 9ms/step - loss: 1.1459 - accuracy: 0.5939 - val_loss: 1.1720 - val_accuracy: 0.5865\n",
            "Epoch 7/10\n",
            "1563/1563 [==============================] - 15s 10ms/step - loss: 1.0711 - accuracy: 0.6216 - val_loss: 1.0559 - val_accuracy: 0.6308\n",
            "Epoch 8/10\n",
            "1563/1563 [==============================] - 15s 9ms/step - loss: 1.0056 - accuracy: 0.6471 - val_loss: 1.0827 - val_accuracy: 0.6197\n",
            "Epoch 9/10\n",
            "1563/1563 [==============================] - 15s 10ms/step - loss: 0.9441 - accuracy: 0.6679 - val_loss: 0.9600 - val_accuracy: 0.6675\n",
            "Epoch 10/10\n",
            "1563/1563 [==============================] - 15s 10ms/step - loss: 0.8886 - accuracy: 0.6905 - val_loss: 0.9603 - val_accuracy: 0.6676\n"
          ]
        }
      ]
    },
    {
      "cell_type": "code",
      "source": [
        "model.summary()"
      ],
      "metadata": {
        "id": "QDemR8hlR9qJ"
      },
      "execution_count": null,
      "outputs": []
    },
    {
      "cell_type": "code",
      "source": [
        "val_loss,val_acc=model.evaluate(x_test,y_test)\n",
        "print(val_loss)\n",
        "print(val_acc)"
      ],
      "metadata": {
        "colab": {
          "base_uri": "https://localhost:8080/"
        },
        "id": "vZZYi1fKSBRQ",
        "outputId": "7d880c72-75f8-4435-9a96-b6505cfed40d"
      },
      "execution_count": null,
      "outputs": [
        {
          "output_type": "stream",
          "name": "stdout",
          "text": [
            "313/313 [==============================] - 1s 4ms/step - loss: 0.9603 - accuracy: 0.6676\n",
            "0.9603360295295715\n",
            "0.6675999760627747\n"
          ]
        }
      ]
    },
    {
      "cell_type": "code",
      "source": [
        "#make predictions\n",
        "arr=model.predict([x_train[12150].reshape(1,32,32,3)])\n",
        "print(arr)"
      ],
      "metadata": {
        "colab": {
          "base_uri": "https://localhost:8080/"
        },
        "id": "bgJ1VKU4SX4F",
        "outputId": "52d03181-e2cb-4798-ddcf-3f385254ddd6"
      },
      "execution_count": null,
      "outputs": [
        {
          "output_type": "stream",
          "name": "stdout",
          "text": [
            "1/1 [==============================] - 0s 19ms/step\n",
            "[[2.8657729e-03 9.2911410e-01 2.9052002e-03 8.3029241e-04 3.1174221e-03\n",
            "  2.0471918e-03 1.2048951e-03 6.6458283e-04 1.0175119e-03 5.6233078e-02]]\n"
          ]
        }
      ]
    },
    {
      "cell_type": "code",
      "source": [
        "label=np.argmax(arr)\n",
        "print(label)"
      ],
      "metadata": {
        "colab": {
          "base_uri": "https://localhost:8080/"
        },
        "id": "1SOB4MS6SksH",
        "outputId": "e029cacd-a3cf-4cac-cdf1-34a44a53ef11"
      },
      "execution_count": null,
      "outputs": [
        {
          "output_type": "stream",
          "name": "stdout",
          "text": [
            "1\n"
          ]
        }
      ]
    }
  ]
}